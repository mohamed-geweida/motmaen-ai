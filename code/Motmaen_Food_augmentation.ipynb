{
  "nbformat": 4,
  "nbformat_minor": 0,
  "metadata": {
    "colab": {
      "provenance": [],
      "gpuType": "T4"
    },
    "kernelspec": {
      "name": "python3",
      "display_name": "Python 3"
    },
    "language_info": {
      "name": "python"
    },
    "accelerator": "GPU"
  },
  "cells": [
    {
      "cell_type": "markdown",
      "source": [
        "# Data augmentation and tensorflow download"
      ],
      "metadata": {
        "id": "e1WJulLw7knK"
      }
    },
    {
      "cell_type": "code",
      "source": [
        "!pip install rarfile"
      ],
      "metadata": {
        "colab": {
          "base_uri": "https://localhost:8080/"
        },
        "id": "ejm3KyET35n2",
        "outputId": "e519181a-563e-4743-dfbc-33bffb60bc6e"
      },
      "execution_count": 4,
      "outputs": [
        {
          "output_type": "stream",
          "name": "stdout",
          "text": [
            "Collecting rarfile\n",
            "  Downloading rarfile-4.2-py3-none-any.whl.metadata (4.4 kB)\n",
            "Downloading rarfile-4.2-py3-none-any.whl (29 kB)\n",
            "Installing collected packages: rarfile\n",
            "Successfully installed rarfile-4.2\n"
          ]
        }
      ]
    },
    {
      "cell_type": "code",
      "source": [
        "import rarfile\n",
        "import os\n",
        "\n",
        "rar_path = \"/content/drive/MyDrive/Motmaen/food photos.rar\"\n",
        "extract_path = \"/content/drive/MyDrive/Motmaen/food_photos\"\n",
        "with rarfile.RarFile(rar_path) as rf:\n",
        "    rf.extractall(path=extract_path)\n",
        "\n",
        "print(\"Extraction complete!\")\n"
      ],
      "metadata": {
        "colab": {
          "base_uri": "https://localhost:8080/"
        },
        "id": "BmuFF14p3Gp7",
        "outputId": "555443e4-575a-4925-da22-32f7235793b0"
      },
      "execution_count": 5,
      "outputs": [
        {
          "output_type": "stream",
          "name": "stdout",
          "text": [
            "Extraction complete!\n"
          ]
        }
      ]
    },
    {
      "cell_type": "code",
      "execution_count": 7,
      "metadata": {
        "colab": {
          "base_uri": "https://localhost:8080/"
        },
        "id": "3llkW8pAJwM_",
        "outputId": "4b55e8ac-8e56-424a-a478-333e00fb3ded"
      },
      "outputs": [
        {
          "output_type": "stream",
          "name": "stdout",
          "text": [
            "Fattah - train: 53/64\n",
            "Finished Fattah/train → 64 images\n",
            "\n",
            "Fattah - valid: 15/19\n",
            "Finished Fattah/valid → 19 images\n",
            "\n",
            "Fattah - test: 14/15\n",
            "Finished Fattah/test → 15 images\n",
            "\n",
            "Fool - train: 46/64\n",
            "Finished Fool/train → 64 images\n",
            "\n",
            "Fool - valid: 15/19\n",
            "Finished Fool/valid → 19 images\n",
            "\n",
            "Fool - test: 12/15\n",
            "Finished Fool/test → 15 images\n",
            "\n",
            "Hawawshy - train: 12/64\n",
            "Finished Hawawshy/train → 64 images\n",
            "\n",
            "Hawawshy - valid: 17/19\n",
            "Finished Hawawshy/valid → 19 images\n",
            "\n",
            "Hawawshy - test: 56/15\n",
            "Koshari - train: 60/64\n",
            "Finished Koshari/train → 64 images\n",
            "\n",
            "Koshari - valid: 18/19\n",
            "Finished Koshari/valid → 19 images\n",
            "\n",
            "Koshari - test: 15/15\n",
            "Kunafa - train: 53/64\n",
            "Finished Kunafa/train → 64 images\n",
            "\n",
            "Kunafa - valid: 10/19\n",
            "Finished Kunafa/valid → 19 images\n",
            "\n",
            "Kunafa - test: 10/15\n",
            "Finished Kunafa/test → 15 images\n",
            "\n",
            "Mahshy El Kosa - train: 51/64\n",
            "Finished Mahshy El Kosa/train → 64 images\n",
            "\n",
            "Mahshy El Kosa - valid: 15/19\n",
            "Finished Mahshy El Kosa/valid → 19 images\n",
            "\n",
            "Mahshy El Kosa - test: 11/15\n",
            "Finished Mahshy El Kosa/test → 15 images\n",
            "\n",
            "Ptata - train: 64/64\n",
            "Ptata - valid: 19/19\n",
            "Ptata - test: 14/15\n",
            "Finished Ptata/test → 15 images\n",
            "\n",
            "Taameya - train: 56/64\n",
            "Finished Taameya/train → 64 images\n",
            "\n",
            "Taameya - valid: 18/19\n",
            "Finished Taameya/valid → 19 images\n",
            "\n",
            "Taameya - test: 14/15\n",
            "Finished Taameya/test → 15 images\n",
            "\n",
            "Umm Ali - train: 58/64\n",
            "Finished Umm Ali/train → 64 images\n",
            "\n",
            "Umm Ali - valid: 16/19\n",
            "Finished Umm Ali/valid → 19 images\n",
            "\n",
            "Umm Ali - test: 12/15\n",
            "Finished Umm Ali/test → 15 images\n",
            "\n"
          ]
        }
      ],
      "source": [
        "import os\n",
        "import random\n",
        "from tensorflow.keras.preprocessing.image import ImageDataGenerator\n",
        "from tensorflow.keras.preprocessing.image import img_to_array, load_img, array_to_img\n",
        "root = \"/content/drive/MyDrive/Motmaen/food_photos/food photos\"\n",
        "# define augmentation generator\n",
        "datagen = ImageDataGenerator(\n",
        "    rotation_range=10,\n",
        "    width_shift_range=0.1,\n",
        "    height_shift_range=0.1,\n",
        "    zoom_range=0.1,\n",
        "    horizontal_flip=True,\n",
        "    brightness_range=[0.8, 1.2],\n",
        "    fill_mode='nearest'\n",
        ")\n",
        "\n",
        "# define max images per folder type\n",
        "target_counts = {\n",
        "    'train': 64,\n",
        "    'valid': 19,\n",
        "    'test': 15\n",
        "}\n",
        "\n",
        "\n",
        "for dish in os.listdir(root):\n",
        "    dish_path = os.path.join(root, dish)\n",
        "    if not os.path.isdir(dish_path):\n",
        "        continue\n",
        "\n",
        "    # go through Train, Valid, Test\n",
        "    for split in ['train', 'valid', 'test']:\n",
        "        folder = os.path.join(dish_path, split)\n",
        "        if not os.path.exists(folder):\n",
        "            continue\n",
        "\n",
        "        images = [f for f in os.listdir(folder) if f.lower().endswith(('.jpg'))]\n",
        "        count = len(images)\n",
        "        target = target_counts[split]\n",
        "\n",
        "        print(f\"{dish} - {split}: {count}/{target}\")\n",
        "\n",
        "        # If already enough, skip\n",
        "        if count >= target:\n",
        "            continue\n",
        "\n",
        "        # Otherwise, augment until target reached\n",
        "        i = 0\n",
        "        while count < target:\n",
        "            img_name = random.choice(images)\n",
        "            img_path = os.path.join(folder, img_name)\n",
        "            img = load_img(img_path)\n",
        "            x = img_to_array(img)\n",
        "            x = x.reshape((1,) + x.shape)\n",
        "\n",
        "            # Create new augmented image\n",
        "            for batch in datagen.flow(x, batch_size=1,\n",
        "                                      save_to_dir=folder,\n",
        "                                      save_prefix='aug',\n",
        "                                      save_format='jpg'):\n",
        "                count += 1\n",
        "                i += 1\n",
        "                if count >= target:\n",
        "                    break\n",
        "\n",
        "        print(f\"Finished {dish}/{split} → {count} images\\n\")\n"
      ]
    },
    {
      "cell_type": "code",
      "source": [
        "import os\n",
        "\n",
        "for dish in os.listdir(root):\n",
        "    dish_path = os.path.join(root, dish)\n",
        "    if dish in ['.env','.ipynb_checkpoints']:\n",
        "      continue\n",
        "    for split in ['train', 'valid', 'test']:\n",
        "        folder = os.path.join(dish_path, split)\n",
        "        print(split)\n",
        "        images = [f for f in os.listdir(folder) if f.lower().endswith(('.jpg'))]\n",
        "        count = len(images)\n",
        "        print(count)"
      ],
      "metadata": {
        "colab": {
          "base_uri": "https://localhost:8080/"
        },
        "id": "-lpsvBte5SEw",
        "outputId": "e886e53b-204f-4a3e-88d4-2d1bf16b9a4b"
      },
      "execution_count": 16,
      "outputs": [
        {
          "output_type": "stream",
          "name": "stdout",
          "text": [
            "train\n",
            "64\n",
            "valid\n",
            "19\n",
            "test\n",
            "15\n",
            "train\n",
            "64\n",
            "valid\n",
            "19\n",
            "test\n",
            "15\n",
            "train\n",
            "64\n",
            "valid\n",
            "19\n",
            "test\n",
            "56\n",
            "train\n",
            "64\n",
            "valid\n",
            "19\n",
            "test\n",
            "15\n",
            "train\n",
            "64\n",
            "valid\n",
            "19\n",
            "test\n",
            "15\n",
            "train\n",
            "64\n",
            "valid\n",
            "19\n",
            "test\n",
            "15\n",
            "train\n",
            "64\n",
            "valid\n",
            "19\n",
            "test\n",
            "15\n",
            "train\n",
            "64\n",
            "valid\n",
            "19\n",
            "test\n",
            "15\n",
            "train\n",
            "64\n",
            "valid\n",
            "19\n",
            "test\n",
            "15\n"
          ]
        }
      ]
    },
    {
      "cell_type": "code",
      "source": [],
      "metadata": {
        "id": "aeCThehWesCG"
      },
      "execution_count": null,
      "outputs": []
    }
  ]
}